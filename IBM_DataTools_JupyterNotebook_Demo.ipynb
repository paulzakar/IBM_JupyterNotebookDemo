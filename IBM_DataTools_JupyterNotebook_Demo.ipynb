{
 "cells": [
  {
   "cell_type": "markdown",
   "metadata": {},
   "source": [
    "<center>\n",
    "    <img src=\"https://cf-courses-data.s3.us.cloud-object-storage.appdomain.cloud/IBMDeveloperSkillsNetwork-DS0105EN-SkillsNetwork/labs/Module2/images/SN_web_lightmode.png\" width=\"300\" alt=\"cognitiveclass.ai logo\">\n",
    "</center>\n"
   ]
  },
  {
   "cell_type": "markdown",
   "metadata": {},
   "source": [
    "#### Add your code below following the instructions given in the course\n"
   ]
  },
  {
   "cell_type": "markdown",
   "metadata": {},
   "source": [
    "<h1>My Jupyter Notebook on IBM Watson Studio</h1>"
   ]
  },
  {
   "cell_type": "markdown",
   "metadata": {},
   "source": [
    "<strong>Paul Zakar</strong><br>\n",
    "Professional Jellybean Strategist"
   ]
  },
  {
   "cell_type": "markdown",
   "metadata": {},
   "source": [
    "<em>What excites me about Data Science is the ability to quantitatively see truth through large data sets. Opinions can be bought, media can be manipulated, but viewing and analyzing large sets of organic data delivers facts without the clutter of opinions and bias. While it's true that there can be bias skewing data in certain directions, and the data can be interpreted by humans in multiple ways to further agendas, it's up to data scientists to deliver as honest results as we possibly can without letting our opinions or judgements cloud the data.</em>"
   ]
  },
  {
   "cell_type": "markdown",
   "metadata": {},
   "source": [
    "<h3>The python code in cell 5 is a basic financial calculator. It should take input in the form of 3 prompts, the initial investment you're making, the interest rate you will recieve, and the number of periods to compound the interest. After you enter the 3 values promted, it will deliver the final amount of interest you will have received, plus your total final amount.</h3>"
   ]
  },
  {
   "cell_type": "code",
   "execution_count": null,
   "metadata": {},
   "outputs": [],
   "source": [
    "investment = float(input(\"Enter Investment Amount: \"))\n",
    "interestRate = float(input(\"Enter interest rate: \"))\n",
    "time = float(input(\"Time to compound: \"))\n",
    "finalAmount = investment * (pow((1+interestRate/100), time))\n",
    "compoundInterest = finalAmount - investment\n",
    "print(\"Compound interest amount is: \", compoundInterest)\n",
    "print(\"Total amount after \", time, \"periods, including principal is: \", (compoundInterest+investment))"
   ]
  },
  {
   "cell_type": "markdown",
   "metadata": {},
   "source": [
    "<strong>Data Science can provide things such as: </strong><br>\n",
    "<hr>\n",
    "<ol><li>Machine Learning</li>\n",
    "<li>Data Visualization</li>\n",
    "<li>Deep Learning</li>\n",
    "<li>Statistical Analysis</li></ol><br>\n",
    "<blockquote>This course is brought to you by:<br><br>\n",
    "<img src=\"https://upload.wikimedia.org/wikipedia/commons/thumb/5/51/IBM_logo.svg/150px-IBM_logo.svg.png\"></blockquote><br><br>\n",
    "<mark> You are now 20% through the Data Science Professional Certificate Course... if that's the one you're taking :D</mark>\n"
   ]
  },
  {
   "cell_type": "code",
   "execution_count": null,
   "metadata": {},
   "outputs": [],
   "source": []
  }
 ],
 "metadata": {
  "kernelspec": {
   "display_name": "Python",
   "language": "python",
   "name": "conda-env-python-py"
  },
  "language_info": {
   "codemirror_mode": {
    "name": "ipython",
    "version": 3
   },
   "file_extension": ".py",
   "mimetype": "text/x-python",
   "name": "python",
   "nbconvert_exporter": "python",
   "pygments_lexer": "ipython3",
   "version": "3.7.12"
  }
 },
 "nbformat": 4,
 "nbformat_minor": 4
}
