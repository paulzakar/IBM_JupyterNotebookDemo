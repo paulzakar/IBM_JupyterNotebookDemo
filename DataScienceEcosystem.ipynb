{
 "cells": [
  {
   "cell_type": "markdown",
   "id": "926d47db-927f-454a-aa97-4b3c3bbc942b",
   "metadata": {},
   "source": [
    "<h1> Data Science Tools and Ecosystem</h1>"
   ]
  },
  {
   "cell_type": "markdown",
   "id": "af2e95c0-eea0-4c7e-9c17-ee4234deffca",
   "metadata": {},
   "source": [
    "In this notebook, Data Science Tools and Ecosystem are summarized."
   ]
  },
  {
   "cell_type": "markdown",
   "id": "addff4d2-2483-4ad2-9c14-b7fb45a9bd31",
   "metadata": {},
   "source": [
    "Some of the popular languages that Data Scientists use are: \n",
    "<ol>\n",
    "    <li>Python</li>\n",
    "    <li>R</li>\n",
    "    <li>Julia</li>\n",
    "    <li>Javascript</li>\n",
    "    <li>Scala</li>\n",
    "    <li>SQL</li>\n",
    "    <li>... and many more!</li>\n",
    "</ol>\n",
    "    "
   ]
  },
  {
   "cell_type": "markdown",
   "id": "8a2fefc1-34c6-420c-ba99-2a797a00a206",
   "metadata": {},
   "source": [
    "Here are some of the libraries commonly used by Data Scientists:\n",
    "<ol>\n",
    "    <li>TensorFlow</li>\n",
    "    <li>NumPy</li>\n",
    "    <li>SciPy</li>\n",
    "    <li>Pandas</li>\n",
    "    <li>Matplotlib</li>\n",
    "    <li>Keras</li>\n",
    "    <li>SciKit-Learn</li>\n",
    "    <li>PyTorch</li>\n",
    "    <li>Scrapy</li>\n",
    "    <li>BeautifulSoup</li>\n",
    "</ol>\n",
    "    "
   ]
  },
  {
   "cell_type": "markdown",
   "id": "67aa7a9c-f2ff-431f-b0f1-7722f39f067e",
   "metadata": {},
   "source": [
    "| Data Science Tools | \n",
    "| --- |\n",
    "| RStudio |\n",
    "| Apache Spark |\n",
    "| JupyterLab |\n",
    "| KubeFlow | \n",
    "| Kibana | "
   ]
  },
  {
   "cell_type": "markdown",
   "id": "45faebe2-1e60-43a7-8cbf-acf8f793c779",
   "metadata": {
    "tags": []
   },
   "source": [
    "<h3>Here are some examples of evaluating arithmetic expressions in Python</h3>"
   ]
  },
  {
   "cell_type": "code",
   "execution_count": 2,
   "id": "8cf304b4-a4ec-446d-a277-56d718fe441e",
   "metadata": {},
   "outputs": [
    {
     "data": {
      "text/plain": [
       "17"
      ]
     },
     "execution_count": 2,
     "metadata": {},
     "output_type": "execute_result"
    }
   ],
   "source": [
    "# here is a simple addition and multiplication expression for integers (ints)\n",
    "(3*4)+5"
   ]
  },
  {
   "cell_type": "code",
   "execution_count": 5,
   "id": "8a4a0803-5855-473f-acc9-f0485245404b",
   "metadata": {},
   "outputs": [
    {
     "name": "stdout",
     "output_type": "stream",
     "text": [
      "200 minutes are equal to  3.3333333333333335  hours\n"
     ]
    }
   ],
   "source": [
    "# here is a code cell that converts 200 minutes into hours by dividing by 60\n",
    "hours = (200/60)\n",
    "print(\"200 minutes are equal to \", hours, \" hours\")"
   ]
  },
  {
   "cell_type": "markdown",
   "id": "170eca50-3272-4965-8f45-053bcbfd7f26",
   "metadata": {},
   "source": [
    "<strong>Objectives:</strong>\n",
    "<ul>\n",
    "    <li>Listing languages used in Data Science</li>\n",
    "    <li>Listing codebases/libraries used in Data Science</li>\n",
    "    <li>Listing open source software tools used in Data Science</li>\n",
    "    <li>Showing examples of code able to be integrated in Jupyter Notebooks</li>\n",
    "</ul>"
   ]
  },
  {
   "cell_type": "markdown",
   "id": "30f9189e-27b3-44bd-b266-ecb059f46a66",
   "metadata": {},
   "source": [
    "<h2>Author:</h2>\n",
    "Paul Zakar"
   ]
  }
 ],
 "metadata": {
  "kernelspec": {
   "display_name": "Python",
   "language": "python",
   "name": "conda-env-python-py"
  },
  "language_info": {
   "codemirror_mode": {
    "name": "ipython",
    "version": 3
   },
   "file_extension": ".py",
   "mimetype": "text/x-python",
   "name": "python",
   "nbconvert_exporter": "python",
   "pygments_lexer": "ipython3",
   "version": "3.7.12"
  }
 },
 "nbformat": 4,
 "nbformat_minor": 5
}
